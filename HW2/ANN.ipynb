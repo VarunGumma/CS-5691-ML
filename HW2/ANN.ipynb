{
 "cells": [
  {
   "cell_type": "code",
   "execution_count": 1,
   "id": "9a735f79",
   "metadata": {
    "colab": {
     "base_uri": "https://localhost:8080/"
    },
    "executionInfo": {
     "elapsed": 49493,
     "status": "ok",
     "timestamp": 1636894872318,
     "user": {
      "displayName": "Varun Gumma cs21m070",
      "photoUrl": "https://lh3.googleusercontent.com/a/default-user=s64",
      "userId": "15657800450702375309"
     },
     "user_tz": -330
    },
    "id": "9a735f79",
    "outputId": "2e902286-a24a-4765-cb67-d1708104ae47"
   },
   "outputs": [],
   "source": [
    "# get all required packages\n",
    "import numpy as np\n",
    "import pandas as pd\n",
    "import matplotlib.pyplot as plt\n",
    "np.random.seed(42)"
   ]
  },
  {
   "cell_type": "code",
   "execution_count": 2,
   "id": "13861c02",
   "metadata": {
    "executionInfo": {
     "elapsed": 9,
     "status": "ok",
     "timestamp": 1636894872319,
     "user": {
      "displayName": "Varun Gumma cs21m070",
      "photoUrl": "https://lh3.googleusercontent.com/a/default-user=s64",
      "userId": "15657800450702375309"
     },
     "user_tz": -330
    },
    "id": "13861c02"
   },
   "outputs": [],
   "source": [
    "# function to read csv files\n",
    "def read_csv(fname):\n",
    "    data = pd.read_csv(fname, header=None).to_numpy()\n",
    "    N = data.shape[0]\n",
    "    X = np.resize(data[:, 0], (N, 1))\n",
    "    y = np.resize(data[:, 1], (N, 1))\n",
    "    return (X, y)"
   ]
  },
  {
   "cell_type": "code",
   "execution_count": 3,
   "id": "175437b4",
   "metadata": {
    "executionInfo": {
     "elapsed": 8,
     "status": "ok",
     "timestamp": 1636894872320,
     "user": {
      "displayName": "Varun Gumma cs21m070",
      "photoUrl": "https://lh3.googleusercontent.com/a/default-user=s64",
      "userId": "15657800450702375309"
     },
     "user_tz": -330
    },
    "id": "175437b4"
   },
   "outputs": [],
   "source": [
    "# function to plot the train data/test data with predictions\n",
    "def plot_data(x, y, title, yp=None, labels=None):\n",
    "    plt.scatter(x, y, c='r', marker='+', label=labels[0])\n",
    "    if yp is not None:\n",
    "        plt.scatter(x, yp, c='b', marker='+', label=labels[1])\n",
    "    plt.title(title)\n",
    "    plt.xlabel(\"x-axis\")\n",
    "    plt.ylabel(\"y-axis\")\n",
    "    plt.legend(loc=\"best\")\n",
    "    plt.show()"
   ]
  },
  {
   "cell_type": "code",
   "execution_count": 4,
   "id": "d9db789e",
   "metadata": {
    "executionInfo": {
     "elapsed": 8,
     "status": "ok",
     "timestamp": 1636894872320,
     "user": {
      "displayName": "Varun Gumma cs21m070",
      "photoUrl": "https://lh3.googleusercontent.com/a/default-user=s64",
      "userId": "15657800450702375309"
     },
     "user_tz": -330
    },
    "id": "d9db789e"
   },
   "outputs": [],
   "source": [
    "class ArtificialNeuralNetwork:\n",
    "    def __init__(self, n_hidden_units=5, learning_rate=1e-3):\n",
    "        # weights between input and hidden layer\n",
    "        self.W1 = np.random.random((1, n_hidden_units))\n",
    "        # bias for hidden layer (each node has a bias)\n",
    "        self.B1 = np.random.random(n_hidden_units)\n",
    "        # weight between hidden layer and output layer\n",
    "        self.W2 = np.random.random((n_hidden_units, 1))\n",
    "        # bias for output layer (each node has a bias)\n",
    "        self.B2 = np.random.random(1)\n",
    "        self.lr = learning_rate\n",
    "    \n",
    "    # sigmoid activation\n",
    "    def sigmoid(self, x):\n",
    "        return 1/(1 + np.exp(-x))\n",
    "        \n",
    "    # mse loss\n",
    "    def mse_loss(self, y, yp):\n",
    "        return np.sum(((y - yp) ** 2))/(2*len(y))\n",
    "        \n",
    "    # forward prop, which computes the output for a given input as well as the gradients (only in train mode)\n",
    "    # here 'a' is the pre-activation and 'z' is the activation\n",
    "    # hidden layer has sigmoid activation and output layer has identity as we perform regression\n",
    "    def forward(self, x, y=None, mode=\"train\"):\n",
    "        a1 = np.dot(x, self.W1) + self.B1\n",
    "        z1 = self.sigmoid(a1)\n",
    "        a2 = np.dot(z1, self.W2) + self.B2\n",
    "        z2 = a2\n",
    "        \n",
    "        # eval mode has no learning, so don't compute gradients\n",
    "        if mode == \"eval\":\n",
    "            return z2\n",
    "        # in train mode compute the gradients by chain rule\n",
    "        elif mode == \"train\":\n",
    "            self.dB2 = z2 - y\n",
    "            self.dW2 = np.dot(z1.T, self.dB2)\n",
    "            self.dB1 = z1 * (1 - z1) *  np.dot(self.dB2, self.W2.T)\n",
    "            self.dW1 = np.dot(x.T, self.dB1) \n",
    "            self.mse_loss(y, a2)\n",
    "    \n",
    "    # use gradient descent to tweak the weights according to the gradients and learning_rate\n",
    "    def update(self):\n",
    "        self.W1 -= self.lr * self.dW1\n",
    "        self.B1 -= self.lr * np.sum(self.dB1, axis=0)\n",
    "        self.W2 -= self.lr * self.dW2\n",
    "        self.B2 -= self.lr * np.sum(self.dB2, axis=0)\n",
    "        \n",
    "    # helps us predict output for a new set of input\n",
    "    def predict(self, x):\n",
    "        return self.forward(x, mode=\"eval\")"
   ]
  },
  {
   "cell_type": "code",
   "execution_count": 5,
   "id": "2ddaf191",
   "metadata": {
    "colab": {
     "base_uri": "https://localhost:8080/",
     "height": 608
    },
    "executionInfo": {
     "elapsed": 109497,
     "status": "ok",
     "timestamp": 1636894981810,
     "user": {
      "displayName": "Varun Gumma cs21m070",
      "photoUrl": "https://lh3.googleusercontent.com/a/default-user=s64",
      "userId": "15657800450702375309"
     },
     "user_tz": -330
    },
    "id": "2ddaf191",
    "outputId": "a4579796-6e11-45b1-c74a-e5101ff8f2db"
   },
   "outputs": [
    {
     "data": {
      "image/png": "[encoded data removed]",
      "text/plain": [
       "<Figure size 432x288 with 1 Axes>"
      ]
     },
     "metadata": {
      "needs_background": "light"
     },
     "output_type": "display_data"
    },
    {
     "data": {
      "image/png": "[encoded data removed]",
      "text/plain": [
       "<Figure size 432x288 with 1 Axes>"
      ]
     },
     "metadata": {
      "needs_background": "light"
     },
     "output_type": "display_data"
    },
    {
     "name": "stdout",
     "output_type": "stream",
     "text": [
      "avg. train error:  0.000\n",
      "avg. test error:  0.000\n"
     ]
    }
   ],
   "source": [
    "# load necessary files\n",
    "base_path = \"./Question1\"\n",
    "xtrain, ytrain = read_csv(f\"{base_path}/Train_Dataset1.csv\")\n",
    "xtest, ytest = read_csv(f\"{base_path}/Test_Dataset1.csv\")\n",
    "plot_data(xtrain, ytrain, title=\"train-data-1\", labels=[\"train-data\"])\n",
    "\n",
    "# create the network and train for 100000 iterations for best results\n",
    "ann = ArtificialNeuralNetwork(20, learning_rate=2e-4)\n",
    "for i in range(100000):\n",
    "    loss = ann.forward(xtrain, ytrain)\n",
    "    ann.update()\n",
    "\n",
    "# now predict on the test data\n",
    "ypred = ann.predict(xtest)\n",
    "# plot the predictions and check the train/test error\n",
    "plot_data(xtest, ytest, yp=ypred, title=\"test-prediction-1\", labels=[\"test-data\", \"predictions\"])\n",
    "print(f\"avg. train error: {ann.mse_loss(ytrain, ann.predict(xtrain)):.3f}\")\n",
    "print(f\"avg. test error: {ann.mse_loss(ytest, ypred):.3f}\")"
   ]
  },
  {
   "cell_type": "code",
   "execution_count": 6,
   "id": "224dd3e1",
   "metadata": {
    "colab": {
     "base_uri": "https://localhost:8080/",
     "height": 608
    },
    "executionInfo": {
     "elapsed": 147709,
     "status": "ok",
     "timestamp": 1636895129515,
     "user": {
      "displayName": "Varun Gumma cs21m070",
      "photoUrl": "https://lh3.googleusercontent.com/a/default-user=s64",
      "userId": "15657800450702375309"
     },
     "user_tz": -330
    },
    "id": "224dd3e1",
    "outputId": "55eb8bd1-3c71-49dd-9f52-24fe2b53b9a1"
   },
   "outputs": [
    {
     "data": {
      "image/png": "[encoded data removed]",
      "text/plain": [
       "<Figure size 432x288 with 1 Axes>"
      ]
     },
     "metadata": {
      "needs_background": "light"
     },
     "output_type": "display_data"
    },
    {
     "data": {
      "image/png": "[encoded data removed]",
      "text/plain": [
       "<Figure size 432x288 with 1 Axes>"
      ]
     },
     "metadata": {
      "needs_background": "light"
     },
     "output_type": "display_data"
    },
    {
     "name": "stdout",
     "output_type": "stream",
     "text": [
      "avg. train error:  0.007\n",
      "avg. test error:  0.002\n"
     ]
    }
   ],
   "source": [
    "# load necessary files\n",
    "xtrain, ytrain = read_csv(f\"{base_path}/Train_Dataset2.csv\")\n",
    "xtest, ytest = read_csv(f\"{base_path}/Test_Dataset2.csv\")\n",
    "plot_data(xtrain, ytrain, title=\"train-data-2\", labels=[\"train-data\"])\n",
    "\n",
    "# create the network and train for 100000 iterations for best results\n",
    "ann = ArtificialNeuralNetwork(30, learning_rate=2.5e-4)\n",
    "for i in range(100000):\n",
    "    loss = ann.forward(xtrain, ytrain)\n",
    "    ann.update()\n",
    "\n",
    "# now predict on the test data   \n",
    "ypred = ann.predict(xtest)\n",
    "# plot the predictions and check the train/test error\n",
    "plot_data(xtest, ytest, yp=ypred, title=\"test-prediction-2\", labels=[\"test-data\", \"predictions\"])\n",
    "print(f\"avg. train error: {ann.mse_loss(ytrain, ann.predict(xtrain)):.3f}\")\n",
    "print(f\"avg. test error: {ann.mse_loss(ytest, ypred):.3f}\")"
   ]
  },
  {
   "cell_type": "code",
   "execution_count": null,
   "id": "75884f15",
   "metadata": {
    "executionInfo": {
     "elapsed": 11,
     "status": "ok",
     "timestamp": 1636895129516,
     "user": {
      "displayName": "Varun Gumma cs21m070",
      "photoUrl": "https://lh3.googleusercontent.com/a/default-user=s64",
      "userId": "15657800450702375309"
     },
     "user_tz": -330
    },
    "id": "75884f15"
   },
   "outputs": [],
   "source": []
  }
 ],
 "metadata": {
  "colab": {
   "collapsed_sections": [],
   "name": "ANN.ipynb",
   "provenance": []
  },
  "kernelspec": {
   "display_name": "Python 3 (ipykernel)",
   "language": "python",
   "name": "python3"
  },
  "language_info": {
   "codemirror_mode": {
    "name": "ipython",
    "version": 3
   },
   "file_extension": ".py",
   "mimetype": "text/x-python",
   "name": "python",
   "nbconvert_exporter": "python",
   "pygments_lexer": "ipython3",
   "version": "3.9.8"
  }
 },
 "nbformat": 4,
 "nbformat_minor": 5
}
